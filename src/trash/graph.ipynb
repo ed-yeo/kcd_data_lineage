
#%%
print(3)

#%%
import networkx as nx
# https://stackoverflow.com/questions/32935510/networkx-digraph-create-subgraph-digraph-by-node

def create_subgraph(g,sub_g,start_node):
    for n in g.ancestors_iter(start_node):
        sub_g.add_path([start_node,n])
        create_subgraph(g,sub_g,n)

#%%
G = nx.DiGraph()

G.add_nodes_from([1])
G.add_nodes_from([2,3,4,5])
G.add_nodes_from([6,7,8,9,10])
G.add_edge(1,3)
G.add_edge(2,3)
G.add_edge(3,5)
G.add_edge(4,5)
G.add_edge(6,5)
A = nx.nx_agraph.to_agraph(G)
A.layout()
A.draw('graph.png')

G.add_edge(6,8)
G.add_edge(7,8)
G.add_edge(8,10)
G.add_edge(9,10)

#%%
subG = nx.DiGraph()
create_subgraph(G, subG, 5)

B = nx.nx_agraph.to_agraph(G)
B.layout()
B.draw('sub_graph.png')




